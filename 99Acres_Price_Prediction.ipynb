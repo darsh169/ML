{
  "nbformat": 4,
  "nbformat_minor": 0,
  "metadata": {
    "colab": {
      "name": "Inernshala_assignment.ipynb",
      "provenance": [],
      "collapsed_sections": []
    },
    "kernelspec": {
      "name": "python3",
      "display_name": "Python 3"
    }
  },
  "cells": [
    {
      "cell_type": "code",
      "metadata": {
        "id": "mFLq59Pa6OJQ"
      },
      "source": [
        "from bs4 import BeautifulSoup as soup\n",
        "import pandas as pd\n",
        "import requests\n",
        "import datetime\n",
        "# from selenium import webdriver\n",
        "!pip install kora -q\n",
        "from kora.selenium import wd\n"
      ],
      "execution_count": 122,
      "outputs": []
    },
    {
      "cell_type": "code",
      "metadata": {
        "id": "rrTR1l9w_bsh"
      },
      "source": [
        "base_url=\"https://www.99acres.com/property-in-hinjewadi-pune-ffid-page-\"\n",
        "\n",
        "def dataset(url,n):\n",
        "  all_items=[]#store all rows as a list of dict\n",
        "  \n",
        "  for i in range(1,n):\n",
        "\n",
        "    wd.get(url+str(i))\n",
        "    tables=wd.find_elements_by_class_name(\"srpTuple__tupleTable\")\n",
        "   \n",
        "    for table in tables:\n",
        "      try:\n",
        "        Specification=table.find_element_by_xpath('.//*[@id=\"srp_tuple_property_title\"]/h2').text\n",
        "      except:\n",
        "        Specification=None\n",
        "      try:\n",
        "        Project=table.find_element_by_xpath('.//*[@id=\"srp_tuple_society_heading\"]/a').text\n",
        "      except:\n",
        "        Project=None\n",
        "      try:\n",
        "        Area=table.find_element_by_xpath('.//*[@id=\"srp_tuple_primary_area\"]').text\n",
        "      except:\n",
        "        Area=None\n",
        "      try:\n",
        "        sqft=table.find_element_by_xpath('.//*[@id=\"srp_tuple_primary_area_unit\"]').text\n",
        "      except:\n",
        "        sqft=None\n",
        "      try:\n",
        "        sqmt=table.find_element_by_xpath('.//*[@id=\"srp_tuple_secondary_area\"]').text\n",
        "      except:\n",
        "        sqmt=None\n",
        "      try:\n",
        "        Area=Area.replace(sqft,'')\n",
        "        Area=Area.replace(sqmt,'')\n",
        "        Area=Area.replace('\\n','')\n",
        "        Area=Area.replace(',','')\n",
        "      except:\n",
        "        None\n",
        "      try:\n",
        "        Area=Area[:Area.index('-')]\n",
        "        Area=float(Area)\n",
        "      except:\n",
        "        None\n",
        "      try:\n",
        "        #price per sqft\n",
        "        Price=table.find_element_by_xpath('.//*[@id=\"srp_tuple_price_per_unit_area\"]').text\n",
        "        Price=Price.replace('/sq.ft.','')\n",
        "        Price=Price.replace(',','')\n",
        "        Price=Price.replace('₹','')\n",
        "        Price=float(Price)\n",
        "      except:\n",
        "        Price=None\n",
        "\n",
        "      item={\n",
        "          'specification':Specification,\n",
        "          'project':Project,\n",
        "          'area':Area,\n",
        "          'price':Price\n",
        "      }\n",
        "      all_items.append(item)\n",
        "      # print(Price)\n",
        "      # //*[@id=\"srp_tuple_primary_area\"]/text()\n",
        "      # //*[@id=\"srp_tuple_primary_area\"]/text()\n",
        "\n",
        "  df=pd.DataFrame(all_items)\n",
        "  return df\n",
        "\n"
      ],
      "execution_count": 124,
      "outputs": []
    },
    {
      "cell_type": "code",
      "metadata": {
        "colab": {
          "base_uri": "https://localhost:8080/"
        },
        "id": "Tm5fwfPeTnhN",
        "outputId": "87754d2d-a819-45c9-ad30-f8c65651990a"
      },
      "source": [
        "data=dataset(base_url,31)\n",
        "data.isna().sum()\n",
        "# print(data.shape)"
      ],
      "execution_count": 126,
      "outputs": [
        {
          "output_type": "execute_result",
          "data": {
            "text/plain": [
              "specification      0\n",
              "project          130\n",
              "area               0\n",
              "price             92\n",
              "dtype: int64"
            ]
          },
          "metadata": {
            "tags": []
          },
          "execution_count": 126
        }
      ]
    },
    {
      "cell_type": "code",
      "metadata": {
        "colab": {
          "base_uri": "https://localhost:8080/"
        },
        "id": "F8kuZ6h6XSE9",
        "outputId": "fe31888f-45de-4eae-fad4-9f6472050942"
      },
      "source": [
        "data.shape"
      ],
      "execution_count": 127,
      "outputs": [
        {
          "output_type": "execute_result",
          "data": {
            "text/plain": [
              "(780, 4)"
            ]
          },
          "metadata": {
            "tags": []
          },
          "execution_count": 127
        }
      ]
    },
    {
      "cell_type": "code",
      "metadata": {
        "id": "55mSqIvFYYbq"
      },
      "source": [
        "data.to_csv(\"99acres_data.csv\")"
      ],
      "execution_count": 128,
      "outputs": []
    },
    {
      "cell_type": "code",
      "metadata": {
        "colab": {
          "base_uri": "https://localhost:8080/",
          "height": 204
        },
        "id": "iLusF6E3pGKm",
        "outputId": "37ecddc8-2ba5-4ced-e3ef-6e8eb1e18a71"
      },
      "source": [
        "data.head()"
      ],
      "execution_count": 243,
      "outputs": [
        {
          "output_type": "execute_result",
          "data": {
            "text/html": [
              "<div>\n",
              "<style scoped>\n",
              "    .dataframe tbody tr th:only-of-type {\n",
              "        vertical-align: middle;\n",
              "    }\n",
              "\n",
              "    .dataframe tbody tr th {\n",
              "        vertical-align: top;\n",
              "    }\n",
              "\n",
              "    .dataframe thead th {\n",
              "        text-align: right;\n",
              "    }\n",
              "</style>\n",
              "<table border=\"1\" class=\"dataframe\">\n",
              "  <thead>\n",
              "    <tr style=\"text-align: right;\">\n",
              "      <th></th>\n",
              "      <th>specification</th>\n",
              "      <th>project</th>\n",
              "      <th>area</th>\n",
              "      <th>price</th>\n",
              "    </tr>\n",
              "  </thead>\n",
              "  <tbody>\n",
              "    <tr>\n",
              "      <th>0</th>\n",
              "      <td>Residential land / Plot in Hinjewadi</td>\n",
              "      <td>Aarohi Park</td>\n",
              "      <td>1076</td>\n",
              "      <td>2999.0</td>\n",
              "    </tr>\n",
              "    <tr>\n",
              "      <th>1</th>\n",
              "      <td>1 BHK Residential Apartment in Hinjewadi</td>\n",
              "      <td>SBM Aviva</td>\n",
              "      <td>455</td>\n",
              "      <td>8495.0</td>\n",
              "    </tr>\n",
              "    <tr>\n",
              "      <th>2</th>\n",
              "      <td>2 BHK Residential Apartment in Hinjewadi</td>\n",
              "      <td>SBM Aviva</td>\n",
              "      <td>619</td>\n",
              "      <td>9427.0</td>\n",
              "    </tr>\n",
              "    <tr>\n",
              "      <th>3</th>\n",
              "      <td>3 BHK Residential Apartment in Phase-3 Hinjewadi</td>\n",
              "      <td>Kasturi Eon Homes</td>\n",
              "      <td>945</td>\n",
              "      <td>9029.0</td>\n",
              "    </tr>\n",
              "    <tr>\n",
              "      <th>4</th>\n",
              "      <td>2 BHK Residential Apartment in Phase-3 Hinjewadi</td>\n",
              "      <td>Kasturi Eon Homes</td>\n",
              "      <td>824</td>\n",
              "      <td>8914.0</td>\n",
              "    </tr>\n",
              "  </tbody>\n",
              "</table>\n",
              "</div>"
            ],
            "text/plain": [
              "                                      specification  ...   price\n",
              "0              Residential land / Plot in Hinjewadi  ...  2999.0\n",
              "1          1 BHK Residential Apartment in Hinjewadi  ...  8495.0\n",
              "2          2 BHK Residential Apartment in Hinjewadi  ...  9427.0\n",
              "3  3 BHK Residential Apartment in Phase-3 Hinjewadi  ...  9029.0\n",
              "4  2 BHK Residential Apartment in Phase-3 Hinjewadi  ...  8914.0\n",
              "\n",
              "[5 rows x 4 columns]"
            ]
          },
          "metadata": {
            "tags": []
          },
          "execution_count": 243
        }
      ]
    },
    {
      "cell_type": "code",
      "metadata": {
        "id": "S7QGxGwjYfnt"
      },
      "source": [
        "df=data.copy()"
      ],
      "execution_count": 157,
      "outputs": []
    },
    {
      "cell_type": "code",
      "metadata": {
        "colab": {
          "base_uri": "https://localhost:8080/"
        },
        "id": "krCbSRXobBn4",
        "outputId": "262522b5-b2e6-4c82-aff9-7065b663a0cc"
      },
      "source": [
        "df.shape"
      ],
      "execution_count": 158,
      "outputs": [
        {
          "output_type": "execute_result",
          "data": {
            "text/plain": [
              "(780, 4)"
            ]
          },
          "metadata": {
            "tags": []
          },
          "execution_count": 158
        }
      ]
    },
    {
      "cell_type": "code",
      "metadata": {
        "colab": {
          "base_uri": "https://localhost:8080/"
        },
        "id": "SlqwI9HqbEKH",
        "outputId": "d08f32af-23b0-425d-b9ed-02973f2cd9cc"
      },
      "source": [
        "#drop rows having null values\n",
        "df.dropna(axis=0,inplace=True)\n",
        "df.shape"
      ],
      "execution_count": 159,
      "outputs": [
        {
          "output_type": "execute_result",
          "data": {
            "text/plain": [
              "(568, 4)"
            ]
          },
          "metadata": {
            "tags": []
          },
          "execution_count": 159
        }
      ]
    },
    {
      "cell_type": "code",
      "metadata": {
        "id": "3SoA3yhCbalI"
      },
      "source": [
        "#save data to csv\n",
        "df.to_csv(\"99acres_cleaned.csv\")"
      ],
      "execution_count": 134,
      "outputs": []
    },
    {
      "cell_type": "code",
      "metadata": {
        "colab": {
          "base_uri": "https://localhost:8080/"
        },
        "id": "89jyxgcRbCyP",
        "outputId": "fd736a6b-d5f2-4c81-958e-045a42a06b56"
      },
      "source": [
        "df.columns[:2]"
      ],
      "execution_count": 137,
      "outputs": [
        {
          "output_type": "execute_result",
          "data": {
            "text/plain": [
              "Index(['specification', 'project'], dtype='object')"
            ]
          },
          "metadata": {
            "tags": []
          },
          "execution_count": 137
        }
      ]
    },
    {
      "cell_type": "code",
      "metadata": {
        "id": "6K54xzMXV7TU"
      },
      "source": [
        "#lable Encode the categorical variables\n",
        "from sklearn.preprocessing import LabelEncoder\n",
        "for c in df.columns[:2]:\n",
        "    lbl = LabelEncoder() \n",
        "    lbl.fit(list(df[c].values)) \n",
        "    df[c] = lbl.transform(list(df[c].values))"
      ],
      "execution_count": 160,
      "outputs": []
    },
    {
      "cell_type": "code",
      "metadata": {
        "colab": {
          "base_uri": "https://localhost:8080/",
          "height": 204
        },
        "id": "agWrEj4Tb5rT",
        "outputId": "d7db49a3-6cc8-46df-bbf8-6b769a1c6c16"
      },
      "source": [
        "df.head()"
      ],
      "execution_count": 161,
      "outputs": [
        {
          "output_type": "execute_result",
          "data": {
            "text/html": [
              "<div>\n",
              "<style scoped>\n",
              "    .dataframe tbody tr th:only-of-type {\n",
              "        vertical-align: middle;\n",
              "    }\n",
              "\n",
              "    .dataframe tbody tr th {\n",
              "        vertical-align: top;\n",
              "    }\n",
              "\n",
              "    .dataframe thead th {\n",
              "        text-align: right;\n",
              "    }\n",
              "</style>\n",
              "<table border=\"1\" class=\"dataframe\">\n",
              "  <thead>\n",
              "    <tr style=\"text-align: right;\">\n",
              "      <th></th>\n",
              "      <th>specification</th>\n",
              "      <th>project</th>\n",
              "      <th>area</th>\n",
              "      <th>price</th>\n",
              "    </tr>\n",
              "  </thead>\n",
              "  <tbody>\n",
              "    <tr>\n",
              "      <th>0</th>\n",
              "      <td>19</td>\n",
              "      <td>1</td>\n",
              "      <td>1076</td>\n",
              "      <td>2999.0</td>\n",
              "    </tr>\n",
              "    <tr>\n",
              "      <th>1</th>\n",
              "      <td>1</td>\n",
              "      <td>44</td>\n",
              "      <td>455</td>\n",
              "      <td>8495.0</td>\n",
              "    </tr>\n",
              "    <tr>\n",
              "      <th>2</th>\n",
              "      <td>7</td>\n",
              "      <td>44</td>\n",
              "      <td>619</td>\n",
              "      <td>9427.0</td>\n",
              "    </tr>\n",
              "    <tr>\n",
              "      <th>3</th>\n",
              "      <td>16</td>\n",
              "      <td>14</td>\n",
              "      <td>945</td>\n",
              "      <td>9029.0</td>\n",
              "    </tr>\n",
              "    <tr>\n",
              "      <th>4</th>\n",
              "      <td>11</td>\n",
              "      <td>14</td>\n",
              "      <td>824</td>\n",
              "      <td>8914.0</td>\n",
              "    </tr>\n",
              "  </tbody>\n",
              "</table>\n",
              "</div>"
            ],
            "text/plain": [
              "   specification  project  area   price\n",
              "0             19        1  1076  2999.0\n",
              "1              1       44   455  8495.0\n",
              "2              7       44   619  9427.0\n",
              "3             16       14   945  9029.0\n",
              "4             11       14   824  8914.0"
            ]
          },
          "metadata": {
            "tags": []
          },
          "execution_count": 161
        }
      ]
    },
    {
      "cell_type": "code",
      "metadata": {
        "colab": {
          "base_uri": "https://localhost:8080/"
        },
        "id": "3C4ve0rDb7az",
        "outputId": "818eb8c6-83dd-4f18-f70d-ac0e1153235d"
      },
      "source": [
        "df['project'].unique()"
      ],
      "execution_count": 141,
      "outputs": [
        {
          "output_type": "execute_result",
          "data": {
            "text/plain": [
              "array([ 1, 44, 14, 63,  8, 54, 39, 18, 15,  2, 45,  7, 36, 32, 38, 17, 31,\n",
              "       53, 60, 29, 20, 43, 35, 34,  0, 40, 33, 41, 28, 23, 62,  6, 59, 13,\n",
              "       30, 27, 24, 26, 25, 47, 42, 67, 55, 37, 22,  4, 68, 51, 19, 49, 66,\n",
              "        5, 12, 61, 21,  9, 65, 64, 50, 57, 16, 52, 11, 46,  3, 48, 56, 10,\n",
              "       58])"
            ]
          },
          "metadata": {
            "tags": []
          },
          "execution_count": 141
        }
      ]
    },
    {
      "cell_type": "code",
      "metadata": {
        "id": "ZsiCC0QLcOHx"
      },
      "source": [
        "import matplotlib.pyplot as plt\n",
        "import seaborn as sns\n",
        "from scipy import stats\n",
        "import numpy as np\n",
        "from sklearn import metrics"
      ],
      "execution_count": 227,
      "outputs": []
    },
    {
      "cell_type": "code",
      "metadata": {
        "colab": {
          "base_uri": "https://localhost:8080/",
          "height": 883
        },
        "id": "Y-Ia6NBfc-GC",
        "outputId": "3e19e579-d0e9-4d47-f866-6c12408aeaae"
      },
      "source": [
        "#chech Normality of continuous variable\n",
        "plt.subplots(figsize=(12,9))\n",
        "sns.distplot(df['price'], fit=stats.norm)\n",
        "\n",
        "(mu, sigma) = stats.norm.fit(df['price'])\n",
        "\n",
        "plt.legend(['Normal dist. ($\\mu=$ {:.2f} and $\\sigma=$ {:.2f} )'.format(mu, sigma)], loc='best')\n",
        "plt.ylabel('Frequency')\n",
        "\n",
        "fig = plt.figure()\n",
        "stats.probplot(df['price'], plot=plt)\n",
        "plt.show()"
      ],
      "execution_count": 228,
      "outputs": [
        {
          "output_type": "stream",
          "text": [
            "/usr/local/lib/python3.7/dist-packages/seaborn/distributions.py:2557: FutureWarning: `distplot` is a deprecated function and will be removed in a future version. Please adapt your code to use either `displot` (a figure-level function with similar flexibility) or `histplot` (an axes-level function for histograms).\n",
            "  warnings.warn(msg, FutureWarning)\n"
          ],
          "name": "stderr"
        },
        {
          "output_type": "display_data",
          "data": {
            "image/png": "[encoded data removed]",
            "text/plain": [
              "<Figure size 864x648 with 1 Axes>"
            ]
          },
          "metadata": {
            "tags": [],
            "needs_background": "light"
          }
        },
        {
          "output_type": "display_data",
          "data": {
            "image/png": "[encoded data removed]",
            "text/plain": [
              "<Figure size 432x288 with 1 Axes>"
            ]
          },
          "metadata": {
            "tags": [],
            "needs_background": "light"
          }
        }
      ]
    },
    {
      "cell_type": "code",
      "metadata": {
        "colab": {
          "base_uri": "https://localhost:8080/",
          "height": 286
        },
        "id": "w85OVKoSd4Xe",
        "outputId": "ac95232d-6165-4f51-a807-b88f6724cb53"
      },
      "source": [
        "#applying log to continuous variables to normalize them\n",
        "train_target=df['price']\n",
        "train_features=df.drop(['price'],axis=1)\n",
        "train_features['area']=train_features['area'].apply(int)\n",
        "train_features['area']= np.log1p(train_features['area'])\n",
        "train_target=np.log1p(train_target)\n",
        "\n",
        "\n",
        "#Multiply area with price as price was per sqft\n",
        "train_target=train_target*train_features['area']\n",
        "corr=train_features.corr()\n",
        "plt.subplots()\n",
        "sns.heatmap(corr, annot=True)"
      ],
      "execution_count": 245,
      "outputs": [
        {
          "output_type": "execute_result",
          "data": {
            "text/plain": [
              "<matplotlib.axes._subplots.AxesSubplot at 0x7f29d18ed210>"
            ]
          },
          "metadata": {
            "tags": []
          },
          "execution_count": 245
        },
        {
          "output_type": "display_data",
          "data": {
            "image/png": "[encoded data removed]",
            "text/plain": [
              "<Figure size 432x288 with 2 Axes>"
            ]
          },
          "metadata": {
            "tags": [],
            "needs_background": "light"
          }
        }
      ]
    },
    {
      "cell_type": "code",
      "metadata": {
        "colab": {
          "base_uri": "https://localhost:8080/",
          "height": 626
        },
        "id": "JSDy3D2InarC",
        "outputId": "fc2b877a-6749-4f1d-bb08-f3091342fcb0"
      },
      "source": [
        "#chech Normality of continuous variable\n",
        "plt.subplots(figsize=(12,9))\n",
        "sns.distplot(train_features['area'], fit=stats.norm)\n",
        "\n",
        "(mu, sigma) = stats.norm.fit(train_features['area'])\n",
        "\n",
        "plt.legend(['Normal dist. ($\\mu=$ {:.2f} and $\\sigma=$ {:.2f} )'.format(mu, sigma)], loc='best')\n",
        "plt.ylabel('Frequency')\n"
      ],
      "execution_count": 246,
      "outputs": [
        {
          "output_type": "stream",
          "text": [
            "/usr/local/lib/python3.7/dist-packages/seaborn/distributions.py:2557: FutureWarning: `distplot` is a deprecated function and will be removed in a future version. Please adapt your code to use either `displot` (a figure-level function with similar flexibility) or `histplot` (an axes-level function for histograms).\n",
            "  warnings.warn(msg, FutureWarning)\n"
          ],
          "name": "stderr"
        },
        {
          "output_type": "execute_result",
          "data": {
            "text/plain": [
              "Text(0, 0.5, 'Frequency')"
            ]
          },
          "metadata": {
            "tags": []
          },
          "execution_count": 246
        },
        {
          "output_type": "display_data",
          "data": {
            "image/png": "[encoded data removed]",
            "text/plain": [
              "<Figure size 864x648 with 1 Axes>"
            ]
          },
          "metadata": {
            "tags": [],
            "needs_background": "light"
          }
        }
      ]
    },
    {
      "cell_type": "code",
      "metadata": {
        "colab": {
          "base_uri": "https://localhost:8080/",
          "height": 204
        },
        "id": "nBtqi93Igglp",
        "outputId": "62f19cca-aa68-40ee-b933-34a660778fed"
      },
      "source": [
        "train_features.head()"
      ],
      "execution_count": 247,
      "outputs": [
        {
          "output_type": "execute_result",
          "data": {
            "text/html": [
              "<div>\n",
              "<style scoped>\n",
              "    .dataframe tbody tr th:only-of-type {\n",
              "        vertical-align: middle;\n",
              "    }\n",
              "\n",
              "    .dataframe tbody tr th {\n",
              "        vertical-align: top;\n",
              "    }\n",
              "\n",
              "    .dataframe thead th {\n",
              "        text-align: right;\n",
              "    }\n",
              "</style>\n",
              "<table border=\"1\" class=\"dataframe\">\n",
              "  <thead>\n",
              "    <tr style=\"text-align: right;\">\n",
              "      <th></th>\n",
              "      <th>specification</th>\n",
              "      <th>project</th>\n",
              "      <th>area</th>\n",
              "    </tr>\n",
              "  </thead>\n",
              "  <tbody>\n",
              "    <tr>\n",
              "      <th>0</th>\n",
              "      <td>19</td>\n",
              "      <td>1</td>\n",
              "      <td>6.981935</td>\n",
              "    </tr>\n",
              "    <tr>\n",
              "      <th>1</th>\n",
              "      <td>1</td>\n",
              "      <td>44</td>\n",
              "      <td>6.122493</td>\n",
              "    </tr>\n",
              "    <tr>\n",
              "      <th>2</th>\n",
              "      <td>7</td>\n",
              "      <td>44</td>\n",
              "      <td>6.429719</td>\n",
              "    </tr>\n",
              "    <tr>\n",
              "      <th>3</th>\n",
              "      <td>16</td>\n",
              "      <td>14</td>\n",
              "      <td>6.852243</td>\n",
              "    </tr>\n",
              "    <tr>\n",
              "      <th>4</th>\n",
              "      <td>11</td>\n",
              "      <td>14</td>\n",
              "      <td>6.715383</td>\n",
              "    </tr>\n",
              "  </tbody>\n",
              "</table>\n",
              "</div>"
            ],
            "text/plain": [
              "   specification  project      area\n",
              "0             19        1  6.981935\n",
              "1              1       44  6.122493\n",
              "2              7       44  6.429719\n",
              "3             16       14  6.852243\n",
              "4             11       14  6.715383"
            ]
          },
          "metadata": {
            "tags": []
          },
          "execution_count": 247
        }
      ]
    },
    {
      "cell_type": "code",
      "metadata": {
        "id": "ObQwtxBWiDGK"
      },
      "source": [
        "#train_test_split the datset\n",
        "from sklearn.model_selection import train_test_split\n",
        "X_train, X_test, y_train, y_test = train_test_split(train_features, train_target, test_size=0.2, random_state=7)\n"
      ],
      "execution_count": 248,
      "outputs": []
    },
    {
      "cell_type": "markdown",
      "metadata": {
        "id": "_BCslTnqpmaS"
      },
      "source": [
        "## Linear Regression"
      ]
    },
    {
      "cell_type": "code",
      "metadata": {
        "colab": {
          "base_uri": "https://localhost:8080/"
        },
        "id": "e1xJCE01ite1",
        "outputId": "67f2b45a-33b0-45bb-d1a0-4989fba8953d"
      },
      "source": [
        "from sklearn import linear_model\n",
        "LinR = linear_model.LinearRegression()\n",
        "LinR.fit(X_train, y_train)\n",
        "print(\"Accuracy Score: \", LinR.score(X_test, y_test)*100)"
      ],
      "execution_count": 249,
      "outputs": [
        {
          "output_type": "stream",
          "text": [
            "Accuracy Score:  77.88718264781807\n"
          ],
          "name": "stdout"
        }
      ]
    },
    {
      "cell_type": "markdown",
      "metadata": {
        "id": "coDIVacKps7p"
      },
      "source": [
        "## Random Forest"
      ]
    },
    {
      "cell_type": "code",
      "metadata": {
        "colab": {
          "base_uri": "https://localhost:8080/"
        },
        "id": "InYuzOGVi7SE",
        "outputId": "b96f82e0-3596-401f-9d1f-c5b6c76d94f7"
      },
      "source": [
        "from sklearn.ensemble import RandomForestRegressor\n",
        "RF = RandomForestRegressor(n_estimators=1000)\n",
        "RF.fit(X_train, y_train)\n",
        "print(\"Accuracy Score: \", RF.score(X_test, y_test)*100)"
      ],
      "execution_count": 250,
      "outputs": [
        {
          "output_type": "stream",
          "text": [
            "Accuracy Score:  87.38423537038513\n"
          ],
          "name": "stdout"
        }
      ]
    },
    {
      "cell_type": "markdown",
      "metadata": {
        "id": "Me9T2dlhpzgg"
      },
      "source": [
        "## Gradient Boosting"
      ]
    },
    {
      "cell_type": "code",
      "metadata": {
        "colab": {
          "base_uri": "https://localhost:8080/"
        },
        "id": "8G5SsdVsjLIL",
        "outputId": "0102a53b-2880-4da8-afdd-e65c15ff3726"
      },
      "source": [
        "from sklearn.ensemble import GradientBoostingRegressor\n",
        "GBR = GradientBoostingRegressor(n_estimators=100, max_depth=4)\n",
        "GBR.fit(X_train, y_train)\n",
        "print(\"Accuracy Score \", GBR.score(X_test, y_test)*100)"
      ],
      "execution_count": 251,
      "outputs": [
        {
          "output_type": "stream",
          "text": [
            "Accuracy Score  91.35231630411997\n"
          ],
          "name": "stdout"
        }
      ]
    },
    {
      "cell_type": "markdown",
      "metadata": {
        "id": "8fQVJIV2p234"
      },
      "source": [
        "## XGBoost"
      ]
    },
    {
      "cell_type": "code",
      "metadata": {
        "colab": {
          "base_uri": "https://localhost:8080/"
        },
        "id": "NU6U5gRMjZCM",
        "outputId": "ee66d01b-17bf-493b-f018-384e305dc340"
      },
      "source": [
        "from xgboost import XGBRegressor\n",
        "XGBR = XGBRegressor()\n",
        "XGBR.fit(X_train, y_train)\n",
        "print(\"Accuracy Score \", XGBR.score(X_test, y_test)*100)"
      ],
      "execution_count": 252,
      "outputs": [
        {
          "output_type": "stream",
          "text": [
            "[19:57:41] WARNING: /workspace/src/objective/regression_obj.cu:152: reg:linear is now deprecated in favor of reg:squarederror.\n",
            "Accuracy Score  93.51973833661877\n"
          ],
          "name": "stdout"
        }
      ]
    },
    {
      "cell_type": "code",
      "metadata": {
        "id": "pPHz6lbcimBK"
      },
      "source": [
        ""
      ],
      "execution_count": null,
      "outputs": []
    },
    {
      "cell_type": "code",
      "metadata": {
        "id": "ghjEuMZVhz7R"
      },
      "source": [
        ""
      ],
      "execution_count": null,
      "outputs": []
    },
    {
      "cell_type": "code",
      "metadata": {
        "id": "zRLfV6gHhp9t"
      },
      "source": [
        ""
      ],
      "execution_count": null,
      "outputs": []
    },
    {
      "cell_type": "code",
      "metadata": {
        "id": "BYrc6LClgc5o"
      },
      "source": [
        ""
      ],
      "execution_count": null,
      "outputs": []
    },
    {
      "cell_type": "code",
      "metadata": {
        "id": "tL2cyix7e53z"
      },
      "source": [
        ""
      ],
      "execution_count": null,
      "outputs": []
    }
  ]
}